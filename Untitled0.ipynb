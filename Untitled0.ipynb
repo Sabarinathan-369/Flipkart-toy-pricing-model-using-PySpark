{
  "nbformat": 4,
  "nbformat_minor": 0,
  "metadata": {
    "colab": {
      "provenance": []
    },
    "kernelspec": {
      "name": "python3",
      "display_name": "Python 3"
    },
    "language_info": {
      "name": "python"
    }
  },
  "cells": [
    {
      "cell_type": "code",
      "execution_count": null,
      "metadata": {
        "id": "zV1FJe0EVbt1"
      },
      "outputs": [],
      "source": [
        "from pyspark.sql import *\n",
        "from pyspark.sql.functions import *\n",
        "from pyspark.sql.types import *\n",
        "from pyspark.ml.feature import *\n",
        "from pyspark.ml.regression import *"
      ]
    },
    {
      "cell_type": "code",
      "source": [
        "spark=SparkSession.builder.appName('FlipkartToyPriceModel').getOrCreate()\n",
        "df=spark.read.csv('/content/flipkart_toys.xls',header=True,inferSchema=True)"
      ],
      "metadata": {
        "id": "j2GcvUzoV6As"
      },
      "execution_count": null,
      "outputs": []
    },
    {
      "cell_type": "code",
      "source": [
        "df.show(5)"
      ],
      "metadata": {
        "colab": {
          "base_uri": "https://localhost:8080/"
        },
        "id": "NHqRFTfMWUgb",
        "outputId": "15d8ad63-b6d9-4e84-84ae-e505ffe55d35"
      },
      "execution_count": null,
      "outputs": [
        {
          "output_type": "stream",
          "name": "stdout",
          "text": [
            "+---+--------------------+------+------------+---------+---------+-------+\n",
            "|_c0|                Name|Rating|Rating_count|New_Price|Old_Price|  Offer|\n",
            "+---+--------------------+------+------------+---------+---------+-------+\n",
            "|  0|ARIZON DIY Plasti...|   3.8|    (53,122)|     ₹144|     ₹649|77% off|\n",
            "|  1|Miss & Chief Kick...|   4.2|     (8,487)|     ₹799|   ₹2,499|68% off|\n",
            "|  2|Learn With Fun Lo...|   4.1|     (1,521)|     ₹279|   ₹1,799|84% off|\n",
            "|  3|xelix 2 in 1 Baby...|   4.4|     (7,068)|     ₹282|     ₹999|71% off|\n",
            "|  4|GoodsNet Flash Dr...|   3.9|    (18,313)|     ₹247|     ₹899|72% off|\n",
            "+---+--------------------+------+------------+---------+---------+-------+\n",
            "only showing top 5 rows\n",
            "\n"
          ]
        }
      ]
    },
    {
      "cell_type": "code",
      "source": [
        "# Clean ₹ and commas, and convert to numbers\n",
        "df_cleaned = df.withColumn(\"New_Price\", regexp_replace(\"New_Price\", \"₹|,\", \"\").cast(DoubleType())) \\\n",
        "               .withColumn(\"Old_Price\", regexp_replace(\"Old_Price\", \"₹|,\", \"\").cast(DoubleType())) \\\n",
        "               .withColumn(\"Rating\", col(\"Rating\").cast(DoubleType())) \\\n",
        "               .withColumn(\"Rating_count\", regexp_replace(\"Rating_count\", r\"[(),]\", \"\").cast(IntegerType())) \\\n",
        "               .withColumn(\"Offer\", regexp_replace(\"Offer\", \"% off\", \"\").cast(DoubleType()))\n"
      ],
      "metadata": {
        "id": "TOEQn5guWWiv"
      },
      "execution_count": null,
      "outputs": []
    },
    {
      "cell_type": "code",
      "source": [
        "feature_cols=['Rating','Rating_count','New_Price']\n",
        "assembler=VectorAssembler(inputCols=feature_cols,outputCol='features')\n",
        "assembled_df=assembler.transform(df_cleaned).select('features','offer')"
      ],
      "metadata": {
        "id": "bEzgtCPvXdMl"
      },
      "execution_count": null,
      "outputs": []
    },
    {
      "cell_type": "code",
      "source": [
        "train_df,test_df=assembled_df.randomSplit([0.8,0.2],seed=42)\n",
        "lr=LinearRegression(featuresCol='features',labelCol='offer',predictionCol='prediction')\n",
        "lr_model=lr.fit(train_df)"
      ],
      "metadata": {
        "id": "KfC7A0SDYo4R"
      },
      "execution_count": null,
      "outputs": []
    },
    {
      "cell_type": "code",
      "source": [
        "print(f\"Coefficients: {lr_model.coefficients}\")\n",
        "print(f\"Intercept: {lr_model.intercept}\")\n",
        "test_results=lr_model.evaluate(test_df)\n",
        "print(f\"RMSE: {test_results.rootMeanSquaredError}\")\n",
        "print(f\"R2: {test_results.r2}\")"
      ],
      "metadata": {
        "colab": {
          "base_uri": "https://localhost:8080/"
        },
        "id": "GRBEFF6zZCoO",
        "outputId": "c7325dc3-00ca-4304-a485-fe0d22f43c19"
      },
      "execution_count": null,
      "outputs": [
        {
          "output_type": "stream",
          "name": "stdout",
          "text": [
            "Coefficients: [0.9469809378433298,9.175181156223161e-05,-0.012304448542574254]\n",
            "Intercept: 74.27555812641698\n",
            "RMSE: 5.91925986859266\n",
            "R2: -0.03099254854419442\n"
          ]
        }
      ]
    },
    {
      "cell_type": "markdown",
      "source": [
        " Interpretation of Results\n",
        "Coefficients:\n",
        "\n",
        "Rating: +0.947 → Small positive impact on discount.\n",
        "\n",
        "Rating_count: +0.0000917 → Almost negligible impact.\n",
        "\n",
        "New_Price: -0.0123 → Higher price leads to slightly lower discount.\n",
        "\n",
        "Intercept: ~74.28 → Baseline discount when all other features are 0 (not practically meaningful here).\n",
        "\n",
        "RMSE (Root Mean Squared Error): 5.92 → The average prediction error is ±6%, which is relatively high if discounts vary in a tight range.\n",
        "\n",
        "R² (R-squared): -0.03 → 🚨 Negative R² indicates your model is worse than simply predicting the mean discount."
      ],
      "metadata": {
        "id": "JW78Rq74Z4Tg"
      }
    }
  ]
}